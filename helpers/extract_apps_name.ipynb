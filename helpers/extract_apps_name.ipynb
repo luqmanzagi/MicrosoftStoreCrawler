{
 "cells": [
  {
   "cell_type": "code",
   "execution_count": 15,
   "id": "0f5a149a",
   "metadata": {},
   "outputs": [],
   "source": [
    "import json\n",
    "import glob\n",
    "import random\n",
    "\n",
    "path = '../results/free_app/*json'\n",
    "apps = {}\n",
    "\n",
    "# Collect all app names and IDs into a dict (ID -> name)\n",
    "for file in glob.glob(path):\n",
    "    with open(file, 'r', encoding='utf-8') as f:\n",
    "        data = json.load(f)\n",
    "        for item in data:\n",
    "            name = item.get('itemName')\n",
    "            ID = item.get('itemID')\n",
    "            if name and ID:\n",
    "                apps[ID] = name   # ID is unique key\n",
    "\n",
    "# Get unique IDs and sample N (example: 50)\n",
    "unique_ids = list(apps.keys())\n",
    "random_ids = random.sample(unique_ids, 50)\n",
    "with open ('../results/contoller_free_app_sampled.txt', 'w', encoding='utf-8') as f:\n",
    "    for ID in random_ids:\n",
    "        f.write(f\"{ID}\\t{apps[ID]}\\n\")\n",
    "\n",
    "# --- Outputs: split into groups of 10 ---\n",
    "for i in range(0, len(random_ids), 10):\n",
    "    chunk = random_ids[i:i+10]\n",
    "    group_num = i // 10 + 1\n",
    "\n",
    "    # IDs only\n",
    "    filename_ids = f'../results/free_app_ID_{group_num}.txt'\n",
    "    with open(filename_ids, 'w', encoding='utf-8') as f:\n",
    "        for ID in chunk:\n",
    "            f.write(ID + '\\n')\n",
    "\n",
    "    # Names only\n",
    "    filename_names = f'../results/free_app_name_{group_num}.txt'\n",
    "    with open(filename_names, 'w', encoding='utf-8') as f:\n",
    "        for ID in chunk:\n",
    "            f.write(f\"{apps[ID]}\\n\")\n"
   ]
  }
 ],
 "metadata": {
  "kernelspec": {
   "display_name": "base",
   "language": "python",
   "name": "python3"
  },
  "language_info": {
   "codemirror_mode": {
    "name": "ipython",
    "version": 3
   },
   "file_extension": ".py",
   "mimetype": "text/x-python",
   "name": "python",
   "nbconvert_exporter": "python",
   "pygments_lexer": "ipython3",
   "version": "3.13.5"
  }
 },
 "nbformat": 4,
 "nbformat_minor": 5
}
