{
 "cells": [
  {
   "cell_type": "code",
   "execution_count": null,
   "id": "0f5a149a",
   "metadata": {},
   "outputs": [],
   "source": [
    "import json\n",
    "import glob\n",
    "import random\n",
    "\n",
    "path = '../results/free_app/*json'\n",
    "app_name = []\n",
    "\n",
    "# Collect all app names\n",
    "for file in glob.glob(path):\n",
    "    with open(file, 'r', encoding='utf-8') as f:\n",
    "        data = json.load(f)\n",
    "        for item in data:\n",
    "            name = item.get('itemName')\n",
    "            if name:\n",
    "                app_name.append(name)\n",
    "\n",
    "# Get unique and sample N (example: 50)\n",
    "unique = list(set(app_name))\n",
    "random_unique = random.sample(unique, 50)\n",
    "\n",
    "# Split into groups of 10 automatically\n",
    "for i in range(0, len(random_unique), 10):\n",
    "    chunk = random_unique[i:i+10]\n",
    "    group_num = i // 10 + 1\n",
    "    filename = f'../results/free_app_name_{group_num}.txt'\n",
    "    with open(filename, 'w', encoding='utf-8') as f:\n",
    "        for name in chunk:\n",
    "            f.write(name + '\\n')\n"
   ]
  }
 ],
 "metadata": {
  "kernelspec": {
   "display_name": "base",
   "language": "python",
   "name": "python3"
  },
  "language_info": {
   "codemirror_mode": {
    "name": "ipython",
    "version": 3
   },
   "file_extension": ".py",
   "mimetype": "text/x-python",
   "name": "python",
   "nbconvert_exporter": "python",
   "pygments_lexer": "ipython3",
   "version": "3.13.5"
  }
 },
 "nbformat": 4,
 "nbformat_minor": 5
}
