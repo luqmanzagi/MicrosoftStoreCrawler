{
 "cells": [
  {
   "cell_type": "code",
   "execution_count": 1,
   "id": "1965289f",
   "metadata": {},
   "outputs": [
    {
     "name": "stdout",
     "output_type": "stream",
     "text": [
      "Total items in collection: 17\n"
     ]
    }
   ],
   "source": [
    "import json\n",
    "\n",
    "with open('../results/collection_page_items.json', 'r', encoding='utf-8') as file:\n",
    "    data = json.load(file)\n",
    "    print(f\"Total items in collection: {len(data)}\")\n",
    "\n",
    "with open('../results/collection_href.txt', 'w', encoding='utf-8') as file:\n",
    "    for item in data:\n",
    "        file.write(item['href'] + '\\n'   )"
   ]
  }
 ],
 "metadata": {
  "kernelspec": {
   "display_name": "base",
   "language": "python",
   "name": "python3"
  },
  "language_info": {
   "codemirror_mode": {
    "name": "ipython",
    "version": 3
   },
   "file_extension": ".py",
   "mimetype": "text/x-python",
   "name": "python",
   "nbconvert_exporter": "python",
   "pygments_lexer": "ipython3",
   "version": "3.13.5"
  }
 },
 "nbformat": 4,
 "nbformat_minor": 5
}
